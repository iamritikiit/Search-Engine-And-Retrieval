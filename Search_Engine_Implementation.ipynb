{
  "nbformat": 4,
  "nbformat_minor": 0,
  "metadata": {
    "colab": {
      "provenance": [],
      "authorship_tag": "ABX9TyPLxOi7OLJcjhVm3OgwyWY+",
      "include_colab_link": true
    },
    "kernelspec": {
      "name": "python3",
      "display_name": "Python 3"
    },
    "language_info": {
      "name": "python"
    }
  },
  "cells": [
    {
      "cell_type": "markdown",
      "metadata": {
        "id": "view-in-github",
        "colab_type": "text"
      },
      "source": [
        "<a href=\"https://colab.research.google.com/github/iamritikiit/Search-Engine-And-Retrieval/blob/main/Search_Engine_Implementation.ipynb\" target=\"_parent\"><img src=\"https://colab.research.google.com/assets/colab-badge.svg\" alt=\"Open In Colab\"/></a>"
      ]
    },
    {
      "cell_type": "markdown",
      "source": [
        "Data set collection"
      ],
      "metadata": {
        "id": "U94EGUPcAM8A"
      }
    },
    {
      "cell_type": "code",
      "execution_count": 1,
      "metadata": {
        "colab": {
          "base_uri": "https://localhost:8080/"
        },
        "id": "DvU7E5of_wHz",
        "outputId": "599d77e1-74a0-4ecb-b2f5-5b9835de32a4"
      },
      "outputs": [
        {
          "output_type": "stream",
          "name": "stdout",
          "text": [
            "Saved 100 documents to the folder 'newsgroup_docs'\n"
          ]
        }
      ],
      "source": [
        "import os\n",
        "from sklearn.datasets import fetch_20newsgroups\n",
        "\n",
        "# Step 1: Load the dataset (first 100 documents)\n",
        "data = fetch_20newsgroups(subset='train', remove=('headers', 'footers', 'quotes'))\n",
        "docs = data.data[:100]\n",
        "\n",
        "# Step 2: Create a folder to save documents\n",
        "folder_path = 'newsgroup_docs'\n",
        "os.makedirs(folder_path, exist_ok=True)\n",
        "\n",
        "# Step 3: Save each document as a separate .txt file\n",
        "for i, doc in enumerate(docs):\n",
        "    file_path = os.path.join(folder_path, f'doc_{i+1}.txt')\n",
        "    with open(file_path, 'w', encoding='utf-8') as f:\n",
        "        f.write(doc)\n",
        "\n",
        "print(f\"Saved {len(docs)} documents to the folder '{folder_path}'\")\n"
      ]
    },
    {
      "cell_type": "markdown",
      "source": [
        "Loading all the documents in order to understand the dataset"
      ],
      "metadata": {
        "id": "r7DU352_Ap1T"
      }
    },
    {
      "cell_type": "code",
      "source": [
        "import os\n",
        "\n",
        "def load_documents(folder):\n",
        "    docs = []\n",
        "    filenames = []\n",
        "    for file in os.listdir(folder):\n",
        "        if file.endswith(\".txt\"):\n",
        "            with open(os.path.join(folder, file), 'r', encoding='utf-8') as f:\n",
        "                docs.append(f.read())\n",
        "                filenames.append(file)\n",
        "    return docs, filenames\n",
        "\n",
        "documents, doc_names = load_documents(\"newsgroup_docs\")\n"
      ],
      "metadata": {
        "id": "dp1DPMUJAE9I"
      },
      "execution_count": 2,
      "outputs": []
    },
    {
      "cell_type": "markdown",
      "source": [
        "Tf-IDF use"
      ],
      "metadata": {
        "id": "PsM5i2qqA4RH"
      }
    },
    {
      "cell_type": "code",
      "source": [
        "from sklearn.feature_extraction.text import TfidfVectorizer\n",
        "\n",
        "vectorizer = TfidfVectorizer(stop_words='english')\n",
        "tfidf_matrix = vectorizer.fit_transform(documents)\n"
      ],
      "metadata": {
        "id": "GgX8q2XRApK6"
      },
      "execution_count": 3,
      "outputs": []
    },
    {
      "cell_type": "markdown",
      "source": [
        "Function for query embedding and searching"
      ],
      "metadata": {
        "id": "oZqevvqABMVG"
      }
    },
    {
      "cell_type": "code",
      "source": [
        "from sklearn.metrics.pairwise import cosine_similarity\n",
        "\n",
        "def search(query, top_k=5):\n",
        "    query_vector = vectorizer.transform([query])\n",
        "    similarity_scores = cosine_similarity(query_vector, tfidf_matrix).flatten()\n",
        "    top_indices = similarity_scores.argsort()[-top_k:][::-1]\n",
        "    return [(doc_names[i], similarity_scores[i]) for i in top_indices]\n"
      ],
      "metadata": {
        "id": "vYC8Km1jBQK4"
      },
      "execution_count": 4,
      "outputs": []
    },
    {
      "cell_type": "markdown",
      "source": [
        "Results showcase"
      ],
      "metadata": {
        "id": "pp8qFrYuBV0A"
      }
    },
    {
      "cell_type": "code",
      "source": [
        "query = \"virat kohli\"\n",
        "results = search(query)\n",
        "\n",
        "print(\"Top matching documents:\")\n",
        "for name, score in results:\n",
        "    print(f\"{name} — Score: {score:.4f}\")\n"
      ],
      "metadata": {
        "colab": {
          "base_uri": "https://localhost:8080/"
        },
        "id": "vYNdIzhsBSEL",
        "outputId": "74b38d4c-2683-4eb0-b337-df8d6a8ac769"
      },
      "execution_count": 11,
      "outputs": [
        {
          "output_type": "stream",
          "name": "stdout",
          "text": [
            "Top matching documents:\n",
            "doc_79.txt — Score: 0.0000\n",
            "doc_29.txt — Score: 0.0000\n",
            "doc_12.txt — Score: 0.0000\n",
            "doc_5.txt — Score: 0.0000\n",
            "doc_48.txt — Score: 0.0000\n"
          ]
        }
      ]
    },
    {
      "cell_type": "code",
      "source": [],
      "metadata": {
        "id": "DbUfywM8BZTv"
      },
      "execution_count": null,
      "outputs": []
    }
  ]
}